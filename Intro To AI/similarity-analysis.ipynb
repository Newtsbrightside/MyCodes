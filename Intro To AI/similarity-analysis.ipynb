{
 "cells": [
  {
   "cell_type": "code",
   "execution_count": 3,
   "id": "8c5793f2-6ff6-475c-8c6c-43778cd2e227",
   "metadata": {},
   "outputs": [
    {
     "name": "stdout",
     "output_type": "stream",
     "text": [
      "=== Loading Modern NLP Models ===\n"
     ]
    },
    {
     "name": "stderr",
     "output_type": "stream",
     "text": [
      "Device set to use mps:0\n",
      "Device set to use mps:0\n"
     ]
    },
    {
     "name": "stdout",
     "output_type": "stream",
     "text": [
      "=== Sentiment Analysis Comparison ===\n",
      "\n",
      "Text: 'This movie is not good'\n",
      "Traditional: POSITIVE (score: 1)\n",
      "Modern:      NEGATIVE (confidence: 1.000)\n",
      "Winner: 🤖 Modern\n",
      "\n",
      "Text: 'The acting was bad but the story was amazing'\n",
      "Traditional: NEUTRAL (score: 0)\n",
      "Modern:      POSITIVE (confidence: 1.000)\n",
      "Winner: 🤖 Modern\n",
      "\n",
      "Text: 'So disappointed, expected much better'\n",
      "Traditional: NEUTRAL (score: 0)\n",
      "Modern:      NEGATIVE (confidence: 1.000)\n",
      "Winner: 🤖 Modern\n",
      "\n",
      "Text: 'It's so bad it's good'\n",
      "Traditional: NEUTRAL (score: 0)\n",
      "Modern:      POSITIVE (confidence: 0.993)\n",
      "Winner: 🤖 Modern\n",
      "\n",
      "Text: 'Incredibly underwhelming experience'\n",
      "Traditional: NEUTRAL (score: 0)\n",
      "Modern:      NEGATIVE (confidence: 0.999)\n",
      "Winner: 🤖 Modern\n"
     ]
    }
   ],
   "source": [
    "# install：pip install transformers torch matplotlib numpy\n",
    "\n",
    "from transformers import pipeline, AutoTokenizer, AutoModel\n",
    "import torch\n",
    "import numpy as np\n",
    "import matplotlib.pyplot as plt\n",
    "import re\n",
    "\n",
    "print(\"=== Loading Modern NLP Models ===\")\n",
    "# load pre-trained model（small and fast）\n",
    "sentiment_analyzer = pipeline(\"sentiment-analysis\", \n",
    "                             model=\"distilbert-base-uncased-finetuned-sst-2-english\")\n",
    "text_generator = pipeline(\"text-generation\", \n",
    "                         model=\"distilgpt2\", \n",
    "                         max_length=50)\n",
    "\n",
    "def traditional_sentiment(text):\n",
    "    \"\"\"traditional dictionary method\"\"\"\n",
    "    positive_words = ['good', 'great', 'excellent', 'amazing', 'love', 'wonderful']\n",
    "    negative_words = ['bad', 'terrible', 'awful', 'hate', 'horrible', 'worst']\n",
    "    \n",
    "    text_lower = text.lower()\n",
    "    pos_count = sum(1 for word in positive_words if word in text_lower)\n",
    "    neg_count = sum(1 for word in negative_words if word in text_lower)\n",
    "    \n",
    "    if pos_count > neg_count:\n",
    "        return \"POSITIVE\", pos_count - neg_count\n",
    "    elif neg_count > pos_count:\n",
    "        return \"NEGATIVE\", neg_count - pos_count\n",
    "    else:\n",
    "        return \"NEUTRAL\", 0\n",
    "\n",
    "def modern_sentiment(text):\n",
    "    \"\"\"Moder Deep Learning\"\"\"\n",
    "    result = sentiment_analyzer(text)[0]\n",
    "    return result['label'], result['score']\n",
    "\n",
    "# challenge cases\n",
    "challenging_texts = [\n",
    "    \"This movie is not good\",  # negative\n",
    "    \"The acting was bad but the story was amazing\",  # mixed\n",
    "    \"So disappointed, expected much better\",  # hidden negative\n",
    "    \"It's so bad it's good\",  # complex\n",
    "    \"Incredibly underwhelming experience\"  # subtle negative\n",
    "]\n",
    "\n",
    "print(\"=== Sentiment Analysis Comparison ===\")\n",
    "for text in challenging_texts:\n",
    "    trad_label, trad_score = traditional_sentiment(text)\n",
    "    mod_label, mod_score = modern_sentiment(text)\n",
    "    \n",
    "    print(f\"\\nText: '{text}'\")\n",
    "    print(f\"Traditional: {trad_label} (score: {trad_score})\")\n",
    "    print(f\"Modern:      {mod_label} (confidence: {mod_score:.3f})\")\n",
    "    print(f\"Winner: {'🤖 Modern' if mod_score > 0.8 else '🤔 Unclear'}\")"
   ]
  },
  {
   "cell_type": "code",
   "execution_count": 4,
   "id": "480dac84-92a1-466f-b9f3-12d2c94d82f2",
   "metadata": {},
   "outputs": [
    {
     "name": "stderr",
     "output_type": "stream",
     "text": [
      "Truncation was not explicitly activated but `max_length` is provided a specific value, please use `truncation=True` to explicitly truncate examples to max length. Defaulting to 'longest_first' truncation strategy. If you encode pairs of sequences (GLUE-style) with the tokenizer you can select this strategy more precisely by providing a specific strategy to `truncation`.\n"
     ]
    },
    {
     "name": "stdout",
     "output_type": "stream",
     "text": [
      "=== Modern Text Generation ===\n",
      "\n",
      "Prompt: 'Artificial intelligence is'\n",
      "  1. not necessarily a tool for a specific purpose. A person  has a basic knowledge of their own personal life and is a part\n",
      "  2. a technology that is based on robots that can perform tasks such as controlling the room temperature, driving the road, and even driving the\n",
      "  3. a technology developed for use in artificial intelligence. The researchers used the Artificial Intelligence (AI) technology to develop artificial intelligence devices which can\n",
      "\n",
      "Prompt: 'The future of programming will be'\n",
      "  1. a very different one. I’m sure that’s the end of the world.\n",
      "  2. interesting to watch. It will not only be a question of code quality, it will be a question of performance for the\n",
      "  3. very specific and that means there will be a lot of programming that we will be able to do.\n",
      "\n",
      "\n",
      "\"\n",
      "\n",
      "Prompt: 'Machine learning helps us'\n",
      "  1. to recognize the world and identify the world.\n",
      "  2. determine the most effective way of learning in the world.\n",
      "  3. to learn and improve new technologies.\n",
      "\n",
      "Prompt: 'In the next 10 years, technology will'\n"
     ]
    },
    {
     "name": "stderr",
     "output_type": "stream",
     "text": [
      "Setting `pad_token_id` to `eos_token_id`:50256 for open-end generation.\n"
     ]
    },
    {
     "name": "stdout",
     "output_type": "stream",
     "text": [
      "  1. change the way many people think about their lives, and people who aren't aware of it are going to have\n",
      "  2. be the dominant economic driver of the world’s economy,” according to the new report.\n",
      "  3. help you to build better relationships with the people you care about.\n",
      "\n",
      "=== Try Your Own Prompts! ===\n"
     ]
    },
    {
     "name": "stderr",
     "output_type": "stream",
     "text": [
      "Setting `pad_token_id` to `eos_token_id`:50256 for open-end generation.\n"
     ]
    },
    {
     "name": "stdout",
     "output_type": "stream",
     "text": [
      "'Programming is fun because' → 'it's a way to play with your heart.\n",
      "\n",
      "\n",
      "\n",
      "The goal is to take advantage'\n"
     ]
    },
    {
     "name": "stderr",
     "output_type": "stream",
     "text": [
      "Setting `pad_token_id` to `eos_token_id`:50256 for open-end generation.\n"
     ]
    },
    {
     "name": "stdout",
     "output_type": "stream",
     "text": [
      "'The most important skill for AI engineers is' → 'the ability to accurately predict the flow of the flow of information between the two systems,'\n",
      "'When I graduate, I want to' → 'see something from my future that I can be proud of. I'm working hard to make'\n"
     ]
    }
   ],
   "source": [
    "def intelligent_text_completion():\n",
    "    \"\"\"demonstrate modern text generation\"\"\"\n",
    "    \n",
    "    prompts = [\n",
    "        \"Artificial intelligence is\",\n",
    "        \"The future of programming will be\",\n",
    "        \"Machine learning helps us\",\n",
    "        \"In the next 10 years, technology will\"\n",
    "    ]\n",
    "    \n",
    "    print(\"=== Modern Text Generation ===\")\n",
    "    \n",
    "    for prompt in prompts:\n",
    "        print(f\"\\nPrompt: '{prompt}'\")\n",
    "        \n",
    "        # generate multiple candidates\n",
    "        results = text_generator(prompt, \n",
    "                                max_length=30, \n",
    "                                num_return_sequences=3, \n",
    "                                temperature=0.7,\n",
    "                                pad_token_id=50256)\n",
    "        \n",
    "        for i, result in enumerate(results, 1):\n",
    "            generated_text = result['generated_text'][len(prompt):].strip()\n",
    "            print(f\"  {i}. {generated_text}\")\n",
    "    \n",
    "    # interactive\n",
    "    print(\"\\n=== Try Your Own Prompts! ===\")\n",
    "    custom_prompts = [\n",
    "        \"Programming is fun because\",\n",
    "        \"The most important skill for AI engineers is\",\n",
    "        \"When I graduate, I want to\"\n",
    "    ]\n",
    "    \n",
    "    for prompt in custom_prompts:\n",
    "        result = text_generator(prompt, max_length=25, num_return_sequences=1)[0]\n",
    "        completion = result['generated_text'][len(prompt):].strip()\n",
    "        print(f\"'{prompt}' → '{completion}'\")\n",
    "\n",
    "intelligent_text_completion()"
   ]
  },
  {
   "cell_type": "code",
   "execution_count": 6,
   "id": "124226fb-1c9f-406e-a6f4-d240767b87b6",
   "metadata": {},
   "outputs": [
    {
     "data": {
      "application/vnd.jupyter.widget-view+json": {
       "model_id": "44ad1c333eb94f1a837859a96b2278b9",
       "version_major": 2,
       "version_minor": 0
      },
      "text/plain": [
       "tokenizer_config.json:   0%|          | 0.00/350 [00:00<?, ?B/s]"
      ]
     },
     "metadata": {},
     "output_type": "display_data"
    },
    {
     "data": {
      "application/vnd.jupyter.widget-view+json": {
       "model_id": "e626a3bbab274a249765071ba3566d97",
       "version_major": 2,
       "version_minor": 0
      },
      "text/plain": [
       "vocab.txt: 0.00B [00:00, ?B/s]"
      ]
     },
     "metadata": {},
     "output_type": "display_data"
    },
    {
     "data": {
      "application/vnd.jupyter.widget-view+json": {
       "model_id": "87f773df81fa4cbf8664310257aca780",
       "version_major": 2,
       "version_minor": 0
      },
      "text/plain": [
       "tokenizer.json: 0.00B [00:00, ?B/s]"
      ]
     },
     "metadata": {},
     "output_type": "display_data"
    },
    {
     "data": {
      "application/vnd.jupyter.widget-view+json": {
       "model_id": "97b2c03e18114832a77e027387bcddef",
       "version_major": 2,
       "version_minor": 0
      },
      "text/plain": [
       "special_tokens_map.json:   0%|          | 0.00/112 [00:00<?, ?B/s]"
      ]
     },
     "metadata": {},
     "output_type": "display_data"
    },
    {
     "data": {
      "application/vnd.jupyter.widget-view+json": {
       "model_id": "a903b3d0b46b417f96148d3eada6e33d",
       "version_major": 2,
       "version_minor": 0
      },
      "text/plain": [
       "config.json:   0%|          | 0.00/612 [00:00<?, ?B/s]"
      ]
     },
     "metadata": {},
     "output_type": "display_data"
    },
    {
     "data": {
      "application/vnd.jupyter.widget-view+json": {
       "model_id": "87ed644bdfc64fa3adf9b16a016fd139",
       "version_major": 2,
       "version_minor": 0
      },
      "text/plain": [
       "model.safetensors:   0%|          | 0.00/90.9M [00:00<?, ?B/s]"
      ]
     },
     "metadata": {},
     "output_type": "display_data"
    },
    {
     "name": "stdout",
     "output_type": "stream",
     "text": [
      "=== Building Knowledge Base Embeddings ===\n",
      "✓ Processed: Word embeddings represent words as dense vectors i...\n",
      "✓ Processed: Neural networks learn patterns through backpropaga...\n",
      "✓ Processed: Computer vision uses convolutional neural networks...\n",
      "✓ Processed: Natural language processing helps computers unders...\n",
      "✓ Processed: Machine learning algorithms improve performance th...\n",
      "✓ Processed: Deep learning uses multiple layers to learn comple...\n",
      "✓ Processed: Transfer learning adapts pre-trained models to new...\n",
      "\n",
      "Searching for: 'How do vectors represent meaning?'\n",
      "Results:\n",
      "  1. [0.844] Word embeddings represent words as dense vectors in high-dimensional space\n",
      "  2. [0.719] Machine learning algorithms improve performance through experience\n",
      "  3. [0.706] Natural language processing helps computers understand human language\n",
      "--------------------------------------------------\n",
      "\n",
      "Searching for: 'Learning with neural nets'\n",
      "Results:\n",
      "  1. [0.855] Neural networks learn patterns through backpropagation and gradient descent\n",
      "  2. [0.829] Transfer learning adapts pre-trained models to new tasks efficiently\n",
      "  3. [0.828] Deep learning uses multiple layers to learn complex representations\n",
      "--------------------------------------------------\n",
      "\n",
      "Searching for: 'Image processing with AI'\n",
      "Results:\n",
      "  1. [0.876] Computer vision uses convolutional neural networks to process images\n",
      "  2. [0.803] Machine learning algorithms improve performance through experience\n",
      "  3. [0.759] Natural language processing helps computers understand human language\n",
      "--------------------------------------------------\n",
      "\n",
      "Searching for: 'Teaching machines to read'\n",
      "Results:\n",
      "  1. [0.825] Natural language processing helps computers understand human language\n",
      "  2. [0.775] Machine learning algorithms improve performance through experience\n",
      "  3. [0.764] Transfer learning adapts pre-trained models to new tasks efficiently\n",
      "--------------------------------------------------\n"
     ]
    }
   ],
   "source": [
    "from transformers import AutoTokenizer, AutoModel\n",
    "import torch.nn.functional as F\n",
    "\n",
    "# 加载用于生成句子embedding的模型\n",
    "tokenizer = AutoTokenizer.from_pretrained('sentence-transformers/all-MiniLM-L6-v2')\n",
    "model = AutoModel.from_pretrained('sentence-transformers/all-MiniLM-L6-v2')\n",
    "\n",
    "def get_sentence_embedding(text):\n",
    "    \"\"\"get the vector representation of sentences\"\"\"\n",
    "    # Tokenize\n",
    "    encoded_input = tokenizer(text, padding=True, truncation=True, \n",
    "                             return_tensors='pt', max_length=512)\n",
    "    \n",
    "    # Generate embeddings\n",
    "    with torch.no_grad():\n",
    "        model_output = model(**encoded_input)\n",
    "        sentence_embedding = model_output.pooler_output\n",
    "    \n",
    "    return sentence_embedding\n",
    "\n",
    "def semantic_search_engine():\n",
    "    \"\"\"build semantic search engine\"\"\"\n",
    "    \n",
    "    # knowledge base\n",
    "    knowledge_base = [\n",
    "        \"Word embeddings represent words as dense vectors in high-dimensional space\",\n",
    "        \"Neural networks learn patterns through backpropagation and gradient descent\",\n",
    "        \"Computer vision uses convolutional neural networks to process images\", \n",
    "        \"Natural language processing helps computers understand human language\",\n",
    "        \"Machine learning algorithms improve performance through experience\",\n",
    "        \"Deep learning uses multiple layers to learn complex representations\",\n",
    "        \"Transfer learning adapts pre-trained models to new tasks efficiently\"\n",
    "    ]\n",
    "    \n",
    "    print(\"=== Building Knowledge Base Embeddings ===\")\n",
    "    # pre-compute all docs' embedding\n",
    "    doc_embeddings = []\n",
    "    for doc in knowledge_base:\n",
    "        embedding = get_sentence_embedding(doc)\n",
    "        doc_embeddings.append(embedding)\n",
    "        print(f\"✓ Processed: {doc[:50]}...\")\n",
    "    \n",
    "    def search(query, top_k=3):\n",
    "        \"\"\"semantic search functionality\"\"\"\n",
    "        print(f\"\\nSearching for: '{query}'\")\n",
    "        \n",
    "        # get query embedding\n",
    "        query_embedding = get_sentence_embedding(query)\n",
    "        \n",
    "        # compute similarities\n",
    "        similarities = []\n",
    "        for i, doc_emb in enumerate(doc_embeddings):\n",
    "            # cosine similarities\n",
    "            similarity = F.cosine_similarity(query_embedding, doc_emb).item()\n",
    "            similarities.append((knowledge_base[i], similarity))\n",
    "        \n",
    "        # rank and return top_k\n",
    "        similarities.sort(key=lambda x: x[1], reverse=True)\n",
    "        \n",
    "        print(\"Results:\")\n",
    "        for i, (doc, score) in enumerate(similarities[:top_k], 1):\n",
    "            print(f\"  {i}. [{score:.3f}] {doc}\")\n",
    "        \n",
    "        return similarities[:top_k]\n",
    "    \n",
    "    # test query\n",
    "    test_queries = [\n",
    "        \"How do vectors represent meaning?\",\n",
    "        \"Learning with neural nets\",\n",
    "        \"Image processing with AI\",\n",
    "        \"Teaching machines to read\"\n",
    "    ]\n",
    "    \n",
    "    for query in test_queries:\n",
    "        search(query)\n",
    "        print(\"-\" * 50)\n",
    "\n",
    "semantic_search_engine()"
   ]
  },
  {
   "cell_type": "code",
   "execution_count": 7,
   "id": "c75e3173-3e0c-469b-9af0-efc28bdca239",
   "metadata": {},
   "outputs": [
    {
     "data": {
      "image/png": "[encoded data removed]",
      "text/plain": [
       "<Figure size 1200x800 with 1 Axes>"
      ]
     },
     "metadata": {},
     "output_type": "display_data"
    },
    {
     "name": "stdout",
     "output_type": "stream",
     "text": [
      "🎯 Observation: Related sentences cluster together in semantic space!\n"
     ]
    }
   ],
   "source": [
    "from sklearn.decomposition import PCA\n",
    "import matplotlib.pyplot as plt\n",
    "\n",
    "def visualize_semantic_space():\n",
    "    \"\"\"visualize words distributions in vector space\"\"\"\n",
    "    \n",
    "    # prepare test sentences\n",
    "    sentences = [\n",
    "        \"I love programming\",\n",
    "        \"I enjoy coding\", \n",
    "        \"Programming is fun\",\n",
    "        \"I hate bugs in code\",\n",
    "        \"Debugging is frustrating\",\n",
    "        \"Errors make me angry\",\n",
    "        \"Machine learning is fascinating\", \n",
    "        \"AI is amazing\",\n",
    "        \"Neural networks are cool\",\n",
    "        \"Weather is sunny today\",\n",
    "        \"It's raining outside\",\n",
    "        \"Beautiful day for a walk\"\n",
    "    ]\n",
    "    \n",
    "    # get sentences' embeddings\n",
    "    embeddings = []\n",
    "    for sentence in sentences:\n",
    "        emb = get_sentence_embedding(sentence).numpy().flatten()\n",
    "        embeddings.append(emb)\n",
    "    \n",
    "    # reduce to 2d to visualize\n",
    "    pca = PCA(n_components=2)\n",
    "    embeddings_2d = pca.fit_transform(embeddings)\n",
    "    \n",
    "    # create visualization\n",
    "    plt.figure(figsize=(12, 8))\n",
    "    \n",
    "    # categorized by topics\n",
    "    programming_indices = [0, 1, 2, 3, 4, 5]  # programming related\n",
    "    ai_indices = [6, 7, 8]  # AI related  \n",
    "    weather_indices = [9, 10, 11]  # weather related\n",
    "    \n",
    "    plt.scatter(embeddings_2d[programming_indices, 0], \n",
    "               embeddings_2d[programming_indices, 1], \n",
    "               c='blue', label='Programming', s=100, alpha=0.7)\n",
    "    \n",
    "    plt.scatter(embeddings_2d[ai_indices, 0], \n",
    "               embeddings_2d[ai_indices, 1], \n",
    "               c='red', label='AI/ML', s=100, alpha=0.7)\n",
    "    \n",
    "    plt.scatter(embeddings_2d[weather_indices, 0], \n",
    "               embeddings_2d[weather_indices, 1], \n",
    "               c='green', label='Weather', s=100, alpha=0.7)\n",
    "    \n",
    "    # adds tag\n",
    "    for i, sentence in enumerate(sentences):\n",
    "        plt.annotate(sentence[:20] + \"...\", \n",
    "                    (embeddings_2d[i, 0], embeddings_2d[i, 1]),\n",
    "                    xytext=(5, 5), textcoords='offset points',\n",
    "                    fontsize=8, alpha=0.8)\n",
    "    \n",
    "    plt.title(\"Semantic Space Visualization\\n(Similar sentences cluster together)\")\n",
    "    plt.xlabel(f\"First Principal Component ({pca.explained_variance_ratio_[0]:.1%} variance)\")\n",
    "    plt.ylabel(f\"Second Principal Component ({pca.explained_variance_ratio_[1]:.1%} variance)\")\n",
    "    plt.legend()\n",
    "    plt.grid(True, alpha=0.3)\n",
    "    plt.tight_layout()\n",
    "    plt.show()\n",
    "    \n",
    "    print(\"🎯 Observation: Related sentences cluster together in semantic space!\")\n",
    "\n",
    "visualize_semantic_space()"
   ]
  },
  {
   "cell_type": "code",
   "execution_count": null,
   "id": "25f978c9-abb8-49b6-882e-a232dcbd48c3",
   "metadata": {},
   "outputs": [],
   "source": []
  }
 ],
 "metadata": {
  "kernelspec": {
   "display_name": ".venv",
   "language": "python",
   "name": "python3"
  },
  "language_info": {
   "codemirror_mode": {
    "name": "ipython",
    "version": 3
   },
   "file_extension": ".py",
   "mimetype": "text/x-python",
   "name": "python",
   "nbconvert_exporter": "python",
   "pygments_lexer": "ipython3",
   "version": "3.13.7"
  }
 },
 "nbformat": 4,
 "nbformat_minor": 5
}
