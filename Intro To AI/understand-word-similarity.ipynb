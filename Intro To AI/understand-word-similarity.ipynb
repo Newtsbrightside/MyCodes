{
 "cells": [
  {
   "cell_type": "code",
   "execution_count": 1,
   "id": "68474481-ef4d-4a94-97d9-6c9d2d67b493",
   "metadata": {},
   "outputs": [
    {
     "name": "stdout",
     "output_type": "stream",
     "text": [
      "Word Similarity Analysis:\n",
      "========================================\n",
      "king   ↔ queen  : 0.991\n",
      "                    (Very similar)\n",
      "\n",
      "king   ↔ man    : 0.958\n",
      "                    (Very similar)\n",
      "\n",
      "apple  ↔ orange : 0.985\n",
      "                    (Very similar)\n",
      "\n",
      "king   ↔ apple  : 0.340\n",
      "                    (Slightly similar)\n",
      "\n",
      "man    ↔ woman  : 0.974\n",
      "                    (Very similar)\n",
      "\n"
     ]
    }
   ],
   "source": [
    "import math\n",
    "\n",
    "def calculate_similarity(word1_vector, word2_vector):\n",
    "    \"\"\"\n",
    "    Calculate cosine similarity between two word vectors\n",
    "    Cosine similarity ranges from -1 to 1:\n",
    "    - 1: identical direction (very similar)\n",
    "    - 0: perpendicular (unrelated)\n",
    "    - -1: opposite direction (opposite meaning)\n",
    "    \"\"\"\n",
    "    # Dot product\n",
    "    dot_product = sum(a * b for a, b in zip(word1_vector, word2_vector))\n",
    "    \n",
    "    # Magnitudes\n",
    "    magnitude1 = math.sqrt(sum(a * a for a in word1_vector))\n",
    "    magnitude2 = math.sqrt(sum(b * b for b in word2_vector))\n",
    "    \n",
    "    # Cosine similarity\n",
    "    if magnitude1 * magnitude2 == 0:\n",
    "        return 0\n",
    "    return dot_product / (magnitude1 * magnitude2)\n",
    "\n",
    "# Simplified word vectors (normally 300 dimensions, here we use 5 for clarity)\n",
    "word_vectors = {\n",
    "    \"king\":     [0.8, 0.2, 0.9, 0.1, 0.7],\n",
    "    \"queen\":    [0.7, 0.3, 0.8, 0.2, 0.6],\n",
    "    \"man\":      [0.6, 0.1, 0.5, 0.3, 0.4],\n",
    "    \"woman\":    [0.5, 0.2, 0.4, 0.4, 0.3],\n",
    "    \"apple\":    [0.1, 0.9, 0.2, 0.8, 0.1],\n",
    "    \"orange\":   [0.2, 0.8, 0.3, 0.7, 0.2],\n",
    "    \"car\":      [0.3, 0.1, 0.1, 0.2, 0.9]\n",
    "}\n",
    "\n",
    "# Calculate similarities\n",
    "comparisons = [\n",
    "    (\"king\", \"queen\"),\n",
    "    (\"king\", \"man\"), \n",
    "    (\"apple\", \"orange\"),\n",
    "    (\"king\", \"apple\"),\n",
    "    (\"man\", \"woman\")\n",
    "]\n",
    "\n",
    "print(\"Word Similarity Analysis:\")\n",
    "print(\"=\" * 40)\n",
    "\n",
    "for word1, word2 in comparisons:\n",
    "    similarity = calculate_similarity(word_vectors[word1], word_vectors[word2])\n",
    "    print(f\"{word1:6} ↔ {word2:6} : {similarity:.3f}\")\n",
    "    \n",
    "    # Interpretation\n",
    "    if similarity > 0.7:\n",
    "        relation = \"Very similar\"\n",
    "    elif similarity > 0.4:\n",
    "        relation = \"Somewhat similar\"  \n",
    "    elif similarity > 0.1:\n",
    "        relation = \"Slightly similar\"\n",
    "    else:\n",
    "        relation = \"Not similar\"\n",
    "    \n",
    "    print(f\"                    ({relation})\")\n",
    "    print()"
   ]
  },
  {
   "cell_type": "code",
   "execution_count": null,
   "id": "ef41e55e-3a5d-4dc2-bf71-cc969569571b",
   "metadata": {},
   "outputs": [],
   "source": []
  }
 ],
 "metadata": {
  "kernelspec": {
   "display_name": ".venv",
   "language": "python",
   "name": "python3"
  },
  "language_info": {
   "codemirror_mode": {
    "name": "ipython",
    "version": 3
   },
   "file_extension": ".py",
   "mimetype": "text/x-python",
   "name": "python",
   "nbconvert_exporter": "python",
   "pygments_lexer": "ipython3",
   "version": "3.13.7"
  }
 },
 "nbformat": 4,
 "nbformat_minor": 5
}
