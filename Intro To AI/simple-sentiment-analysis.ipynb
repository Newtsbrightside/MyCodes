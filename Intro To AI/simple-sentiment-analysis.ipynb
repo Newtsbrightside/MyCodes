{
 "cells": [
  {
   "cell_type": "code",
   "execution_count": 2,
   "id": "2c9220bb-ddb8-40fa-aaa9-ea102872ba39",
   "metadata": {},
   "outputs": [
    {
     "name": "stdout",
     "output_type": "stream",
     "text": [
      "Hello, World!\n",
      "hello, world!\n"
     ]
    }
   ],
   "source": [
    "# the lower() function of a string\n",
    "sentence = \"Hello, World!\"\n",
    "lowered_sentence = sentence.lower()\n",
    "print(sentence)\n",
    "print(lowered_sentence)"
   ]
  },
  {
   "cell_type": "code",
   "execution_count": 3,
   "id": "c42d57fe-8e30-451d-a776-2fd9ff3867a7",
   "metadata": {},
   "outputs": [],
   "source": [
    "# Define positive and negative words\n",
    "positive_words = ['good', 'great', 'excellent', 'amazing', 'love', \n",
    "                 'wonderful', 'fantastic', 'awesome', 'happy', 'best']\n",
    "negative_words = ['bad', 'terrible', 'awful', 'hate', 'worst', \n",
    "                 'horrible', 'disappointing', 'sad', 'angry', 'poor']"
   ]
  },
  {
   "cell_type": "code",
   "execution_count": 7,
   "id": "9b36dda0-e0b0-45ad-8e74-4ade55aa6f54",
   "metadata": {},
   "outputs": [],
   "source": [
    "# Count positive and negative words\n",
    "positive_count = 0\n",
    "negative_count = 0"
   ]
  },
  {
   "cell_type": "code",
   "execution_count": 8,
   "id": "96495d40-6a1a-4ddc-b0f8-28892f2210fc",
   "metadata": {},
   "outputs": [
    {
     "name": "stdout",
     "output_type": "stream",
     "text": [
      "['This', 'movie', 'is', 'amazing', 'and', 'wonderful!']\n"
     ]
    }
   ],
   "source": [
    "text = \"This movie is amazing and wonderful!\"\n",
    "words = text.split()\n",
    "print(words)"
   ]
  },
  {
   "cell_type": "code",
   "execution_count": 9,
   "id": "c518780f-e9c5-4744-b929-e0a1c76fd58a",
   "metadata": {},
   "outputs": [
    {
     "name": "stdout",
     "output_type": "stream",
     "text": [
      "Positive count: 2, Negative count: 0\n"
     ]
    }
   ],
   "source": [
    "for word in words:\n",
    "    # Remove punctuation\n",
    "    word = word.strip('.,!?')\n",
    "    \n",
    "    if word in positive_words:\n",
    "        positive_count += 1\n",
    "    elif word in negative_words:\n",
    "        negative_count += 1\n",
    "\n",
    "print(f\"Positive count: {positive_count}, Negative count: {negative_count}\")"
   ]
  },
  {
   "cell_type": "code",
   "execution_count": 10,
   "id": "30598394-8f6a-4873-81df-e9ed5ac529a2",
   "metadata": {},
   "outputs": [
    {
     "name": "stdout",
     "output_type": "stream",
     "text": [
      "Positive\n"
     ]
    }
   ],
   "source": [
    "# Determine sentiment\n",
    "if positive_count > negative_count:\n",
    "    print(\"Positive\")\n",
    "elif negative_count > positive_count:\n",
    "    print(\"Negative\")\n",
    "else:\n",
    "    print(\"Neutral\")"
   ]
  },
  {
   "cell_type": "code",
   "execution_count": 11,
   "id": "0e4ce8d4-916a-44dc-abb8-59e9cb0585e3",
   "metadata": {},
   "outputs": [],
   "source": [
    "# Now let's write down as a function\n",
    "# Simple sentiment analysis using basic Python\n",
    "def simple_sentiment_analysis(text):\n",
    "    # Convert to lowercase for easier matching\n",
    "    text = text.lower()\n",
    "    \n",
    "    # Define positive and negative words\n",
    "    positive_words = ['good', 'great', 'excellent', 'amazing', 'love', \n",
    "                     'wonderful', 'fantastic', 'awesome', 'happy', 'best']\n",
    "    negative_words = ['bad', 'terrible', 'awful', 'hate', 'worst', \n",
    "                     'horrible', 'disappointing', 'sad', 'angry', 'poor']\n",
    "    \n",
    "    # Count positive and negative words\n",
    "    positive_count = 0\n",
    "    negative_count = 0\n",
    "    \n",
    "    words = text.split()\n",
    "    \n",
    "    for word in words:\n",
    "        # Remove punctuation\n",
    "        word = word.strip('.,!?')\n",
    "        \n",
    "        if word in positive_words:\n",
    "            positive_count += 1\n",
    "        elif word in negative_words:\n",
    "            negative_count += 1\n",
    "    \n",
    "    # Determine sentiment\n",
    "    if positive_count > negative_count:\n",
    "        return \"Positive\"\n",
    "    elif negative_count > positive_count:\n",
    "        return \"Negative\"\n",
    "    else:\n",
    "        return \"Neutral\""
   ]
  },
  {
   "cell_type": "code",
   "execution_count": 12,
   "id": "a7209730-5db3-4ef5-9c54-7f5d1cbfbcd5",
   "metadata": {},
   "outputs": [],
   "source": [
    "# Define some test cases\n",
    "test_sentences = [\n",
    "    \"This movie is amazing and wonderful!\",\n",
    "    \"I hate this terrible book.\",\n",
    "    \"The weather is okay today.\",\n",
    "    \"The food was good but the service was bad.\"\n",
    "]"
   ]
  },
  {
   "cell_type": "code",
   "execution_count": 13,
   "id": "0f236097-3a09-45a9-9be8-9e21e9facf6b",
   "metadata": {},
   "outputs": [
    {
     "name": "stdout",
     "output_type": "stream",
     "text": [
      "'This movie is amazing and wonderful!' → Positive\n",
      "'I hate this terrible book.' → Negative\n",
      "'The weather is okay today.' → Neutral\n",
      "'The food was good but the service was bad.' → Neutral\n"
     ]
    }
   ],
   "source": [
    "for sentence in test_sentences:\n",
    "    sentiment = simple_sentiment_analysis(sentence)\n",
    "    print(f\"'{sentence}' → {sentiment}\")"
   ]
  },
  {
   "cell_type": "code",
   "execution_count": null,
   "id": "de9af9f7-a120-4c94-a083-d9feb8bfa24e",
   "metadata": {},
   "outputs": [],
   "source": []
  },
  {
   "cell_type": "code",
   "execution_count": null,
   "id": "f3694a06-4bc5-42df-8a43-acebda131bd2",
   "metadata": {},
   "outputs": [],
   "source": []
  }
 ],
 "metadata": {
  "kernelspec": {
   "display_name": ".venv",
   "language": "python",
   "name": "python3"
  },
  "language_info": {
   "codemirror_mode": {
    "name": "ipython",
    "version": 3
   },
   "file_extension": ".py",
   "mimetype": "text/x-python",
   "name": "python",
   "nbconvert_exporter": "python",
   "pygments_lexer": "ipython3",
   "version": "3.13.7"
  }
 },
 "nbformat": 4,
 "nbformat_minor": 5
}
