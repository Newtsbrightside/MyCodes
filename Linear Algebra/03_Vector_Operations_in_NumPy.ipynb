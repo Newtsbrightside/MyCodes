{
 "cells": [
  {
   "cell_type": "markdown",
   "id": "7e23f5d0-1751-4f75-871b-d1eea88cec00",
   "metadata": {},
   "source": [
    "# Vector arithmetic"
   ]
  },
  {
   "cell_type": "code",
   "execution_count": 1,
   "id": "ed308843-8807-49f9-bd63-f912e129f970",
   "metadata": {},
   "outputs": [
    {
     "name": "stdout",
     "output_type": "stream",
     "text": [
      "Addition (a + b): [5 7 9]\n",
      "Subtraction (a - b): [-3 -3 -3]\n",
      "Scalar multiplication (2 * a): [2 4 6]\n",
      "Element-wise multiplication (a * b): [ 4 10 18]\n"
     ]
    }
   ],
   "source": [
    "import numpy as np\n",
    "\n",
    "# Define two vectors\n",
    "a = np.array([1, 2, 3])\n",
    "b = np.array([4, 5, 6])\n",
    "\n",
    "# Addition\n",
    "add = a + b\n",
    "print(\"Addition (a + b):\", add)\n",
    "\n",
    "# Subtraction\n",
    "sub = a - b\n",
    "print(\"Subtraction (a - b):\", sub)\n",
    "\n",
    "# Scalar multiplication\n",
    "scalar = 2\n",
    "scaled = scalar * a\n",
    "print(f\"Scalar multiplication ({scalar} * a):\", scaled)\n",
    "\n",
    "# Element-wise multiplication (not dot product!)\n",
    "elementwise = a * b\n",
    "print(\"Element-wise multiplication (a * b):\", elementwise)"
   ]
  },
  {
   "cell_type": "markdown",
   "id": "18ad1b15-d8d4-430d-a4dd-f74694ef1cec",
   "metadata": {},
   "source": [
    "## Exercises on vector operations\n",
    "### Please use numpy to get the results and compare the results with your hand calculations.\n",
    "![vector operations](vector_operations.png)"
   ]
  },
  {
   "cell_type": "markdown",
   "id": "067b8a5a-cd66-44c4-a076-90651e0410d9",
   "metadata": {},
   "source": [
    "# Dot product"
   ]
  },
  {
   "cell_type": "code",
   "execution_count": 2,
   "id": "a1db2c7a-ba26-43b8-8c99-9c4745dc1a97",
   "metadata": {},
   "outputs": [
    {
     "name": "stdout",
     "output_type": "stream",
     "text": [
      "Dot product using np.dot(): 32\n",
      "Dot product using @ operator: 32\n"
     ]
    }
   ],
   "source": [
    "import numpy as np\n",
    "\n",
    "# Define two vectors\n",
    "a = np.array([1, 2, 3])\n",
    "b = np.array([4, 5, 6])\n",
    "\n",
    "# Method 1: Using np.dot()\n",
    "dot_product_1 = np.dot(a, b)\n",
    "print(\"Dot product using np.dot():\", dot_product_1)\n",
    "\n",
    "# Method 2: Using @ operator\n",
    "dot_product_2 = a @ b\n",
    "print(\"Dot product using @ operator:\", dot_product_2)\n",
    "\n",
    "# Both methods should give the same result: 1*4 + 2*5 + 3*6 = 32"
   ]
  },
  {
   "cell_type": "markdown",
   "id": "8e5c17cb-ffdc-4a2d-aeda-f8f74e1e5444",
   "metadata": {},
   "source": [
    "# Vector magnitude"
   ]
  },
  {
   "cell_type": "code",
   "execution_count": 3,
   "id": "82c24b78-6cfc-4791-b091-7268c4797f71",
   "metadata": {},
   "outputs": [
    {
     "name": "stdout",
     "output_type": "stream",
     "text": [
      "Vector: [3 4]\n",
      "Magnitude (Euclidean norm): 5.0\n"
     ]
    }
   ],
   "source": [
    "import numpy as np\n",
    "\n",
    "# Define a vector\n",
    "v = np.array([3, 4])\n",
    "\n",
    "# Compute the magnitude (Euclidean norm) of the vector\n",
    "magnitude = np.linalg.norm(v)\n",
    "\n",
    "print(\"Vector:\", v)\n",
    "print(\"Magnitude (Euclidean norm):\", magnitude)"
   ]
  },
  {
   "cell_type": "markdown",
   "id": "952cb611-e057-49e8-bc95-75b18df1674c",
   "metadata": {},
   "source": [
    "## Exercises on vector operations\n",
    "### Please use numpy to get the results and compare the results with your hand calculations.\n",
    "![vector operations](vector_operations_2.png)"
   ]
  },
  {
   "cell_type": "code",
   "execution_count": null,
   "id": "1ced23e9-b6e2-4b11-8fdf-d4e155cf84cd",
   "metadata": {},
   "outputs": [],
   "source": []
  }
 ],
 "metadata": {
  "kernelspec": {
   "display_name": "Python (pclPython310)",
   "language": "python",
   "name": "pclpython310"
  },
  "language_info": {
   "codemirror_mode": {
    "name": "ipython",
    "version": 3
   },
   "file_extension": ".py",
   "mimetype": "text/x-python",
   "name": "python",
   "nbconvert_exporter": "python",
   "pygments_lexer": "ipython3",
   "version": "3.10.18"
  }
 },
 "nbformat": 4,
 "nbformat_minor": 5
}
